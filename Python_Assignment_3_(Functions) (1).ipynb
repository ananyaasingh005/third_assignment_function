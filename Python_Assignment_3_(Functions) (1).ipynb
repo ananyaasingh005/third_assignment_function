{
  "nbformat": 4,
  "nbformat_minor": 0,
  "metadata": {
    "colab": {
      "provenance": []
    },
    "kernelspec": {
      "name": "python3",
      "display_name": "Python 3"
    },
    "language_info": {
      "name": "python"
    }
  },
  "cells": [
    {
      "cell_type": "code",
      "execution_count": 1,
      "metadata": {
        "id": "C1AZ6jAuU8za"
      },
      "outputs": [],
      "source": [
        "# Ques1 : What is the difference between a function and a method in Python?"
      ]
    },
    {
      "cell_type": "code",
      "source": [
        "# Example of a fuction\n",
        "def myname(name):\n",
        "    return f\"Hello, {name}\"\n",
        "print(myname(\"Ananyaa\"))"
      ],
      "metadata": {
        "colab": {
          "base_uri": "https://localhost:8080/"
        },
        "id": "csEmzWKkVFtQ",
        "outputId": "b23637b0-357c-4cd7-bab9-f19426d7140a"
      },
      "execution_count": 2,
      "outputs": [
        {
          "output_type": "stream",
          "name": "stdout",
          "text": [
            "Hello, Ananyaa\n"
          ]
        }
      ]
    },
    {
      "cell_type": "code",
      "source": [
        "def introduction(intro):\n",
        "    return f\"{intro}\"\n",
        "print(introduction(\"Myself Ananyaa Singh and currently I am doing Data Science with genrative AI course from pw skills.\"))"
      ],
      "metadata": {
        "colab": {
          "base_uri": "https://localhost:8080/"
        },
        "id": "-52QnZgqVJmN",
        "outputId": "83f081b0-eed1-4a6a-fc4a-dececb6be609"
      },
      "execution_count": 4,
      "outputs": [
        {
          "output_type": "stream",
          "name": "stdout",
          "text": [
            "Myself Ananyaa Singh and currently I am doing Data Science with genrative AI course from pw skills.\n"
          ]
        }
      ]
    },
    {
      "cell_type": "code",
      "source": [
        "# Example of a method\n",
        "class Myself:\n",
        "    def __init__(self, name):\n",
        "        self.name = name\n",
        "\n",
        "    def myself(self):\n",
        "        return f\"Hello, {self.name}\"\n",
        "\n",
        "person = Myself(\"Ananyaa Singh\")\n",
        "print(person.myself())"
      ],
      "metadata": {
        "colab": {
          "base_uri": "https://localhost:8080/"
        },
        "id": "n--YmqDHVVbA",
        "outputId": "a6803df5-ce71-4a66-9701-fe752e6322c9"
      },
      "execution_count": 5,
      "outputs": [
        {
          "output_type": "stream",
          "name": "stdout",
          "text": [
            "Hello, Ananyaa Singh\n"
          ]
        }
      ]
    },
    {
      "cell_type": "code",
      "source": [
        "class Introduction:\n",
        "    def __init__(self, intro):\n",
        "        self.intro = intro\n",
        "\n",
        "    def introduction(self):\n",
        "        return f\"Hello, {self.intro}\"\n",
        "\n",
        "person = Introduction(\"Myself Ananyaa Singh and currently I am doing Data Science with genrative AI course from pw skills.\")\n",
        "print(person.introduction())"
      ],
      "metadata": {
        "colab": {
          "base_uri": "https://localhost:8080/"
        },
        "id": "mtvy0bt_Vh4s",
        "outputId": "3c071260-cc4e-4b35-e662-e5dd9d7330b5"
      },
      "execution_count": 6,
      "outputs": [
        {
          "output_type": "stream",
          "name": "stdout",
          "text": [
            "Hello, Myself Ananyaa Singh and currently I am doing Data Science with genrative AI course from pw skills.\n"
          ]
        }
      ]
    },
    {
      "cell_type": "code",
      "source": [
        "# Ques 2 :  Explain the concept of function arguments and parameters in Python?"
      ],
      "metadata": {
        "id": "egihObE8ViGp"
      },
      "execution_count": null,
      "outputs": []
    },
    {
      "cell_type": "code",
      "source": [
        "def myself(name):  # Here name is a parameter\n",
        "    return f\"Hello, {name}\"\n",
        "print(myself(\"Ananyaa Singh\")) # And my name that is Ananyaa Singh is a Argument"
      ],
      "metadata": {
        "colab": {
          "base_uri": "https://localhost:8080/"
        },
        "id": "Cm0Auai8ViR9",
        "outputId": "3e52c54e-beec-41c7-ad7f-6af7e839e41e"
      },
      "execution_count": 7,
      "outputs": [
        {
          "output_type": "stream",
          "name": "stdout",
          "text": [
            "Hello, Ananyaa Singh\n"
          ]
        }
      ]
    },
    {
      "cell_type": "code",
      "source": [
        "# Positional Arguments: In this in an order parameter is passesd\n",
        "def add(a, b):\n",
        "    return a + b\n",
        "print(add(2, 3))"
      ],
      "metadata": {
        "colab": {
          "base_uri": "https://localhost:8080/"
        },
        "id": "ufi3HYK8Vici",
        "outputId": "f8c246eb-2d75-4068-93ce-33b6966f7c01"
      },
      "execution_count": 8,
      "outputs": [
        {
          "output_type": "stream",
          "name": "stdout",
          "text": [
            "5\n"
          ]
        }
      ]
    },
    {
      "cell_type": "code",
      "source": [
        "# Keyword Arguments: It allows you to pass arguments in any order.\n",
        "def myself(name, greeting):\n",
        "    return f\"{greeting}, {name}\"\n",
        "print(myself(name=\"Ananyaa\", greeting=\"Good evening\"))\n",
        "print(myself(greeting=\"Hello\", name=\"Ananyaa. What going onn..\"))"
      ],
      "metadata": {
        "colab": {
          "base_uri": "https://localhost:8080/"
        },
        "id": "cPEIkhytVinB",
        "outputId": "5953e40a-456f-440d-dc30-8bd94cb45078"
      },
      "execution_count": 9,
      "outputs": [
        {
          "output_type": "stream",
          "name": "stdout",
          "text": [
            "Good evening, Ananyaa\n",
            "Hello, Ananyaa. What going onn..\n"
          ]
        }
      ]
    },
    {
      "cell_type": "code",
      "source": [
        "# Default Argument: If argument is not passed you can use a default value\n",
        "def myself(name, greeting=\"Hello\"):\n",
        "    return f\"{greeting}, {name}\"\n",
        "print(myself(\"Ananyaa\"))\n",
        "print(myself(\"Pooja\", \"Hii\"))"
      ],
      "metadata": {
        "colab": {
          "base_uri": "https://localhost:8080/"
        },
        "id": "fEM85ZxlV3VE",
        "outputId": "bf10c39f-ad9e-4d6e-8227-47e94599d9ca"
      },
      "execution_count": 10,
      "outputs": [
        {
          "output_type": "stream",
          "name": "stdout",
          "text": [
            "Hello, Ananyaa\n",
            "Hii, Pooja\n"
          ]
        }
      ]
    },
    {
      "cell_type": "code",
      "source": [
        "# Ques 3:  What are the different ways to define and call a function in Python?"
      ],
      "metadata": {
        "id": "rBxs5-ngV3aq"
      },
      "execution_count": null,
      "outputs": []
    },
    {
      "cell_type": "code",
      "source": [
        "# Positional Arguments: In this in an order parameter is passesd\n",
        "def add(a, b):\n",
        "    return a + b\n",
        "print(add(2, 3))"
      ],
      "metadata": {
        "colab": {
          "base_uri": "https://localhost:8080/"
        },
        "id": "QdC7O2nyV3cy",
        "outputId": "9f873b2b-2fec-46bb-903e-bfaddb04adba"
      },
      "execution_count": 11,
      "outputs": [
        {
          "output_type": "stream",
          "name": "stdout",
          "text": [
            "5\n"
          ]
        }
      ]
    },
    {
      "cell_type": "code",
      "source": [
        "# Keyword Arguments: It allows you to pass arguments in any order.\n",
        "def myself(name, greeting):\n",
        "    return f\"{greeting}, {name}\"\n",
        "print(myself(name=\"Ananyaa\", greeting=\"Good evening\"))\n",
        "print(myself(greeting=\"Hello\", name=\"Ananyaa. What going onn..\"))"
      ],
      "metadata": {
        "colab": {
          "base_uri": "https://localhost:8080/"
        },
        "id": "u8NNmr9ZV3fj",
        "outputId": "44b0215f-26ee-46d9-ec0d-6aa4a7f7b6c4"
      },
      "execution_count": 12,
      "outputs": [
        {
          "output_type": "stream",
          "name": "stdout",
          "text": [
            "Good evening, Ananyaa\n",
            "Hello, Ananyaa. What going onn..\n"
          ]
        }
      ]
    },
    {
      "cell_type": "code",
      "source": [
        "# Default Argument: If argument is not passed you can use a default value\n",
        "def myself(name, greeting=\"Hello\"):\n",
        "    return f\"{greeting}, {name}\"\n",
        "print(myself(\"Ananyaa\"))\n",
        "print(myself(\"Pooja\", \"Hii\"))"
      ],
      "metadata": {
        "colab": {
          "base_uri": "https://localhost:8080/"
        },
        "id": "k-xcuRwVV3i4",
        "outputId": "21b549b5-a855-4550-97f4-377cc1c50934"
      },
      "execution_count": 13,
      "outputs": [
        {
          "output_type": "stream",
          "name": "stdout",
          "text": [
            "Hello, Ananyaa\n",
            "Hii, Pooja\n"
          ]
        }
      ]
    },
    {
      "cell_type": "code",
      "source": [
        "# Function with Variable-Length Arguments\n",
        "def add(*args):\n",
        "    return sum(args)\n",
        "print(add(1, 2, 3))\n",
        "print(add(4, 5, 6, 7))"
      ],
      "metadata": {
        "colab": {
          "base_uri": "https://localhost:8080/"
        },
        "id": "zwqMIM15V3lW",
        "outputId": "9105bdf3-3cf7-48bd-980f-03da1357a9de"
      },
      "execution_count": 14,
      "outputs": [
        {
          "output_type": "stream",
          "name": "stdout",
          "text": [
            "6\n",
            "22\n"
          ]
        }
      ]
    },
    {
      "cell_type": "code",
      "source": [
        "# Lambda Functions\n",
        "add = lambda x, y: x + y\n",
        "print(add(3, 4))"
      ],
      "metadata": {
        "colab": {
          "base_uri": "https://localhost:8080/"
        },
        "id": "x44tWjC2V3of",
        "outputId": "dab1ab7e-c02e-41a9-c619-4bbeb8a567b1"
      },
      "execution_count": 15,
      "outputs": [
        {
          "output_type": "stream",
          "name": "stdout",
          "text": [
            "7\n"
          ]
        }
      ]
    },
    {
      "cell_type": "code",
      "source": [
        "# Nested Function\n",
        "def outer_function(text):\n",
        "    def inner_function():\n",
        "        print(text)\n",
        "    inner_function()\n",
        "outer_function(\"outer function\")"
      ],
      "metadata": {
        "colab": {
          "base_uri": "https://localhost:8080/"
        },
        "id": "WpZ761n1V3rm",
        "outputId": "9cdcf93c-eb28-4215-8487-fd07a8f99b4c"
      },
      "execution_count": 16,
      "outputs": [
        {
          "output_type": "stream",
          "name": "stdout",
          "text": [
            "outer function\n"
          ]
        }
      ]
    },
    {
      "cell_type": "code",
      "source": [
        "# Ques 4: What is the purpose of the `return` statement in a Python function?"
      ],
      "metadata": {
        "id": "3zGfceslV3wB"
      },
      "execution_count": null,
      "outputs": []
    },
    {
      "cell_type": "code",
      "source": [
        "# Return a value\n",
        "def add(a, b):\n",
        "    return a + b\n",
        "print(add(2, 3))"
      ],
      "metadata": {
        "colab": {
          "base_uri": "https://localhost:8080/"
        },
        "id": "xMO0XtKUWW8-",
        "outputId": "de56522b-5abf-4810-aa47-b78c2093a0bf"
      },
      "execution_count": 17,
      "outputs": [
        {
          "output_type": "stream",
          "name": "stdout",
          "text": [
            "5\n"
          ]
        }
      ]
    },
    {
      "cell_type": "code",
      "source": [
        "# Terminate the Function Execution\n",
        "def even_odd(n):\n",
        "    if n % 2 == 0:\n",
        "        return \"The number is even number\"\n",
        "    return \"The number is odd number\"\n",
        "print(even_odd(5))\n",
        "print(even_odd(2))\n",
        "print(even_odd(14))"
      ],
      "metadata": {
        "colab": {
          "base_uri": "https://localhost:8080/"
        },
        "id": "2EhM-Hc7WW-5",
        "outputId": "2de2613d-69e9-419f-ce74-98a10d4ba032"
      },
      "execution_count": 18,
      "outputs": [
        {
          "output_type": "stream",
          "name": "stdout",
          "text": [
            "The number is odd number\n",
            "The number is even number\n",
            "The number is even number\n"
          ]
        }
      ]
    },
    {
      "cell_type": "code",
      "source": [
        "# Return none\n",
        "def none():\n",
        "    return\n",
        "result = none()\n",
        "print(result)"
      ],
      "metadata": {
        "colab": {
          "base_uri": "https://localhost:8080/"
        },
        "id": "f1H0hIEWWXBb",
        "outputId": "8e945a4e-2b2f-4bfa-d9ab-604f59cf9982"
      },
      "execution_count": 19,
      "outputs": [
        {
          "output_type": "stream",
          "name": "stdout",
          "text": [
            "None\n"
          ]
        }
      ]
    },
    {
      "cell_type": "code",
      "source": [
        "# return with no argument\n",
        "def theif():\n",
        "    print(\"Catched\")\n",
        "    return\n",
        "    print(\"escaped wisely\")\n",
        "theif()"
      ],
      "metadata": {
        "colab": {
          "base_uri": "https://localhost:8080/"
        },
        "id": "5Xmq9QM6WXEN",
        "outputId": "bb264e10-bf66-41ff-8ad8-552b739021ae"
      },
      "execution_count": 20,
      "outputs": [
        {
          "output_type": "stream",
          "name": "stdout",
          "text": [
            "Catched\n"
          ]
        }
      ]
    },
    {
      "cell_type": "code",
      "source": [
        "# Ques 5:  What are iterators in Python and how do they differ from iterables?"
      ],
      "metadata": {
        "id": "qNZHLUQ7WXG1"
      },
      "execution_count": null,
      "outputs": []
    },
    {
      "cell_type": "code",
      "source": [
        "#Iterable\n",
        "my_list = [1, 2, 3]  # my_list is an iterable\n",
        "for item in my_list:\n",
        "    print(item)"
      ],
      "metadata": {
        "colab": {
          "base_uri": "https://localhost:8080/"
        },
        "id": "joJ702eHWXJk",
        "outputId": "cf4e8f7f-30d4-4c17-fa7b-33050e02b6a8"
      },
      "execution_count": 21,
      "outputs": [
        {
          "output_type": "stream",
          "name": "stdout",
          "text": [
            "1\n",
            "2\n",
            "3\n"
          ]
        }
      ]
    },
    {
      "cell_type": "code",
      "source": [
        "#Iterator\n",
        "my_list = [1, 2, 3]\n",
        "iterator = iter(my_list)\n",
        "print(next(iterator))"
      ],
      "metadata": {
        "colab": {
          "base_uri": "https://localhost:8080/"
        },
        "id": "SIr9enw6WXMH",
        "outputId": "4a9c420f-f646-4a63-ea39-5e6e48586c73"
      },
      "execution_count": 22,
      "outputs": [
        {
          "output_type": "stream",
          "name": "stdout",
          "text": [
            "1\n"
          ]
        }
      ]
    },
    {
      "cell_type": "code",
      "source": [
        "print(next(iterator))"
      ],
      "metadata": {
        "colab": {
          "base_uri": "https://localhost:8080/"
        },
        "id": "4aPXb4pwWXPK",
        "outputId": "844d926c-6b54-43e6-cc11-ede4edceb3fb"
      },
      "execution_count": 23,
      "outputs": [
        {
          "output_type": "stream",
          "name": "stdout",
          "text": [
            "2\n"
          ]
        }
      ]
    },
    {
      "cell_type": "code",
      "source": [
        "print(next(iterator))"
      ],
      "metadata": {
        "colab": {
          "base_uri": "https://localhost:8080/"
        },
        "id": "dWgkS6nfWXRm",
        "outputId": "ef6bd966-dc47-413a-b283-2e48970bf8b4"
      },
      "execution_count": 24,
      "outputs": [
        {
          "output_type": "stream",
          "name": "stdout",
          "text": [
            "3\n"
          ]
        }
      ]
    },
    {
      "cell_type": "code",
      "source": [
        "print(next(iterator)) # It will give me an error because only three items are there in my list and I have already itrated 3 values"
      ],
      "metadata": {
        "colab": {
          "base_uri": "https://localhost:8080/",
          "height": 141
        },
        "id": "VGFX27_8WXVq",
        "outputId": "0636bc61-884e-4525-efb7-6fadeb2b4586"
      },
      "execution_count": 25,
      "outputs": [
        {
          "output_type": "error",
          "ename": "StopIteration",
          "evalue": "",
          "traceback": [
            "\u001b[0;31m---------------------------------------------------------------------------\u001b[0m",
            "\u001b[0;31mStopIteration\u001b[0m                             Traceback (most recent call last)",
            "\u001b[0;32m<ipython-input-25-9fd6a1d5e93a>\u001b[0m in \u001b[0;36m<cell line: 1>\u001b[0;34m()\u001b[0m\n\u001b[0;32m----> 1\u001b[0;31m \u001b[0mprint\u001b[0m\u001b[0;34m(\u001b[0m\u001b[0mnext\u001b[0m\u001b[0;34m(\u001b[0m\u001b[0miterator\u001b[0m\u001b[0;34m)\u001b[0m\u001b[0;34m)\u001b[0m \u001b[0;31m# It will give me an error because only three items are there in my list and I have already itrated 3 values\u001b[0m\u001b[0;34m\u001b[0m\u001b[0;34m\u001b[0m\u001b[0m\n\u001b[0m",
            "\u001b[0;31mStopIteration\u001b[0m: "
          ]
        }
      ]
    },
    {
      "cell_type": "code",
      "source": [
        "# Generator: it is a special kind of iterator\n",
        "# In genrator we are using yeild function to get a value\n",
        "def countdown(n):\n",
        "    while n > 0:\n",
        "        yield n\n",
        "        n -= 1\n",
        "\n",
        "for num in countdown(5):\n",
        "    print(num)"
      ],
      "metadata": {
        "colab": {
          "base_uri": "https://localhost:8080/"
        },
        "id": "uUI8KSZsW3Pd",
        "outputId": "b971ae00-5d8d-40ea-a7e0-ea8aeb657d57"
      },
      "execution_count": 26,
      "outputs": [
        {
          "output_type": "stream",
          "name": "stdout",
          "text": [
            "5\n",
            "4\n",
            "3\n",
            "2\n",
            "1\n"
          ]
        }
      ]
    },
    {
      "cell_type": "code",
      "source": [
        "def generator():\n",
        "    yield \"First\"\n",
        "    yield \"Second\"\n",
        "    return \"Done\"\n",
        "    yield \"This will not be executed\"\n",
        "\n",
        "gen = generator()\n",
        "print(next(gen))"
      ],
      "metadata": {
        "colab": {
          "base_uri": "https://localhost:8080/"
        },
        "id": "fthnbRMnW3R2",
        "outputId": "01b975b8-ade0-4a5f-8df8-10004b8ddece"
      },
      "execution_count": 27,
      "outputs": [
        {
          "output_type": "stream",
          "name": "stdout",
          "text": [
            "First\n"
          ]
        }
      ]
    },
    {
      "cell_type": "code",
      "source": [
        "print(next(gen))"
      ],
      "metadata": {
        "colab": {
          "base_uri": "https://localhost:8080/"
        },
        "id": "2CCKd2X7W3Vv",
        "outputId": "0f92c2e2-43a9-441e-cf2f-ebfe6d0a0a8f"
      },
      "execution_count": 28,
      "outputs": [
        {
          "output_type": "stream",
          "name": "stdout",
          "text": [
            "Second\n"
          ]
        }
      ]
    },
    {
      "cell_type": "code",
      "source": [
        "print(next(gen)) # As after this it will reach to return function so it will stop and give error"
      ],
      "metadata": {
        "colab": {
          "base_uri": "https://localhost:8080/",
          "height": 141
        },
        "id": "pWAnWnvCW3cm",
        "outputId": "d0b6b605-b55c-4361-fdb5-c6be31fa057e"
      },
      "execution_count": 29,
      "outputs": [
        {
          "output_type": "error",
          "ename": "StopIteration",
          "evalue": "Done",
          "traceback": [
            "\u001b[0;31m---------------------------------------------------------------------------\u001b[0m",
            "\u001b[0;31mStopIteration\u001b[0m                             Traceback (most recent call last)",
            "\u001b[0;32m<ipython-input-29-c2ee3720e51b>\u001b[0m in \u001b[0;36m<cell line: 1>\u001b[0;34m()\u001b[0m\n\u001b[0;32m----> 1\u001b[0;31m \u001b[0mprint\u001b[0m\u001b[0;34m(\u001b[0m\u001b[0mnext\u001b[0m\u001b[0;34m(\u001b[0m\u001b[0mgen\u001b[0m\u001b[0;34m)\u001b[0m\u001b[0;34m)\u001b[0m \u001b[0;31m# As after this it will reach to return function so it will stop and give error\u001b[0m\u001b[0;34m\u001b[0m\u001b[0;34m\u001b[0m\u001b[0m\n\u001b[0m",
            "\u001b[0;31mStopIteration\u001b[0m: Done"
          ]
        }
      ]
    },
    {
      "cell_type": "code",
      "source": [
        "def generator(n):\n",
        "    count = 1\n",
        "    while count <= n:\n",
        "        yield count\n",
        "        count += 1\n",
        "gen = generator(5)\n",
        "print(next(gen))"
      ],
      "metadata": {
        "colab": {
          "base_uri": "https://localhost:8080/"
        },
        "id": "5aE4YBKWW3hh",
        "outputId": "f2edb71e-ef69-4db8-c21d-161c0249daf4"
      },
      "execution_count": 30,
      "outputs": [
        {
          "output_type": "stream",
          "name": "stdout",
          "text": [
            "1\n"
          ]
        }
      ]
    },
    {
      "cell_type": "code",
      "source": [
        "print(next(gen))"
      ],
      "metadata": {
        "colab": {
          "base_uri": "https://localhost:8080/"
        },
        "id": "uetTi9kmW3oT",
        "outputId": "6526c7d6-f4f6-4686-9fa3-395cf4f84624"
      },
      "execution_count": 31,
      "outputs": [
        {
          "output_type": "stream",
          "name": "stdout",
          "text": [
            "2\n"
          ]
        }
      ]
    },
    {
      "cell_type": "code",
      "source": [
        "print(next(gen))"
      ],
      "metadata": {
        "colab": {
          "base_uri": "https://localhost:8080/"
        },
        "id": "wUWLwrcSXMcd",
        "outputId": "105be969-0f0a-4a04-f035-ec7e4252a0a3"
      },
      "execution_count": 32,
      "outputs": [
        {
          "output_type": "stream",
          "name": "stdout",
          "text": [
            "3\n"
          ]
        }
      ]
    },
    {
      "cell_type": "code",
      "source": [
        "print(next(gen))"
      ],
      "metadata": {
        "colab": {
          "base_uri": "https://localhost:8080/"
        },
        "id": "cfkZcpScXMjz",
        "outputId": "3b4bdc83-5b3a-46e7-f11b-2cb11ca6c28e"
      },
      "execution_count": 33,
      "outputs": [
        {
          "output_type": "stream",
          "name": "stdout",
          "text": [
            "4\n"
          ]
        }
      ]
    },
    {
      "cell_type": "code",
      "source": [
        "print(next(gen))"
      ],
      "metadata": {
        "colab": {
          "base_uri": "https://localhost:8080/"
        },
        "id": "3XhnyjpJXMlx",
        "outputId": "d6a5ab87-c256-4e05-bbc3-f999aeb0a6a4"
      },
      "execution_count": 34,
      "outputs": [
        {
          "output_type": "stream",
          "name": "stdout",
          "text": [
            "5\n"
          ]
        }
      ]
    },
    {
      "cell_type": "code",
      "source": [
        "print(next(gen))  # It will give me an error because we are iterating upto 5 values only so after tht it will give me an error"
      ],
      "metadata": {
        "colab": {
          "base_uri": "https://localhost:8080/",
          "height": 141
        },
        "id": "Qx582P4RXMpT",
        "outputId": "3fb2eeb0-ba1a-4bc3-cce5-61b5b15e9e2f"
      },
      "execution_count": 35,
      "outputs": [
        {
          "output_type": "error",
          "ename": "StopIteration",
          "evalue": "",
          "traceback": [
            "\u001b[0;31m---------------------------------------------------------------------------\u001b[0m",
            "\u001b[0;31mStopIteration\u001b[0m                             Traceback (most recent call last)",
            "\u001b[0;32m<ipython-input-35-beefd2f11985>\u001b[0m in \u001b[0;36m<cell line: 1>\u001b[0;34m()\u001b[0m\n\u001b[0;32m----> 1\u001b[0;31m \u001b[0mprint\u001b[0m\u001b[0;34m(\u001b[0m\u001b[0mnext\u001b[0m\u001b[0;34m(\u001b[0m\u001b[0mgen\u001b[0m\u001b[0;34m)\u001b[0m\u001b[0;34m)\u001b[0m  \u001b[0;31m# It will give me an error because we are iterating upto 5 values only so after tht it will give me an error\u001b[0m\u001b[0;34m\u001b[0m\u001b[0;34m\u001b[0m\u001b[0m\n\u001b[0m",
            "\u001b[0;31mStopIteration\u001b[0m: "
          ]
        }
      ]
    },
    {
      "cell_type": "code",
      "source": [
        "# One of the best exapmple of generator is that it is used iterate a large file line by line making it more readble and understandable\n",
        "def read_large_file(file_path):\n",
        "    with open(file_path, 'r') as file:\n",
        "        for line in file:\n",
        "            yield line"
      ],
      "metadata": {
        "id": "TT3_4ywRXMtC"
      },
      "execution_count": 37,
      "outputs": []
    },
    {
      "cell_type": "code",
      "source": [
        "# Ques 7 : What are the advantages of using generators over regular functions?"
      ],
      "metadata": {
        "id": "rzB5uR7tXb4q"
      },
      "execution_count": null,
      "outputs": []
    },
    {
      "cell_type": "code",
      "source": [
        "# Generator\n",
        "def generator(n):\n",
        "    count = 1\n",
        "    while count <= n:\n",
        "        yield count\n",
        "        count += 1\n",
        "gen = generator(5)\n",
        "print(next(gen))\n",
        "print(next(gen))\n",
        "print(next(gen))\n",
        "print(next(gen))\n",
        "print(next(gen))"
      ],
      "metadata": {
        "colab": {
          "base_uri": "https://localhost:8080/"
        },
        "id": "u6sHnvpiXb7g",
        "outputId": "40fa8ebb-ef4d-46e8-fee2-bb66278e5efd"
      },
      "execution_count": 38,
      "outputs": [
        {
          "output_type": "stream",
          "name": "stdout",
          "text": [
            "1\n",
            "2\n",
            "3\n",
            "4\n",
            "5\n"
          ]
        }
      ]
    },
    {
      "cell_type": "code",
      "source": [
        "# Regular function\n",
        "def regular_function(n):\n",
        "    return [i for i in range(n)]\n",
        "print(regular_function(5))"
      ],
      "metadata": {
        "colab": {
          "base_uri": "https://localhost:8080/"
        },
        "id": "wn3CSGO4Xiy6",
        "outputId": "0266f363-fa1c-4fe2-c895-18339cdb09f1"
      },
      "execution_count": 39,
      "outputs": [
        {
          "output_type": "stream",
          "name": "stdout",
          "text": [
            "[0, 1, 2, 3, 4]\n"
          ]
        }
      ]
    },
    {
      "cell_type": "code",
      "source": [
        "# Ques 8 : What is a lambda function in Python and when is it typically used?"
      ],
      "metadata": {
        "id": "SFsPoSTzXi1P"
      },
      "execution_count": null,
      "outputs": []
    },
    {
      "cell_type": "code",
      "source": [
        "# Lambda Function\n",
        "def add(a, b):\n",
        "    return a + b\n",
        "add_lambda = lambda a, b: a + b\n",
        "print(add_lambda(2, 3))"
      ],
      "metadata": {
        "colab": {
          "base_uri": "https://localhost:8080/"
        },
        "id": "sfIQQg11Xi3p",
        "outputId": "c41b90dc-ea9d-4359-abcb-bb45665f78b6"
      },
      "execution_count": 40,
      "outputs": [
        {
          "output_type": "stream",
          "name": "stdout",
          "text": [
            "5\n"
          ]
        }
      ]
    },
    {
      "cell_type": "code",
      "source": [
        "# Ques 9 :  Explain the purpose and usage of the `map()` function in Python?"
      ],
      "metadata": {
        "id": "4hshLqVvXi6n"
      },
      "execution_count": null,
      "outputs": []
    },
    {
      "cell_type": "code",
      "source": [
        "# map() with Regular Function\n",
        "def square(x):\n",
        "    return x * x\n",
        "numbers = [1, 2, 3, 4, 5]\n",
        "square_number = map(square, numbers)\n",
        "print(list(square_number))"
      ],
      "metadata": {
        "colab": {
          "base_uri": "https://localhost:8080/"
        },
        "id": "oZ5XIP99Xi-j",
        "outputId": "6b9417ad-bc67-4222-a305-784551c81e55"
      },
      "execution_count": 41,
      "outputs": [
        {
          "output_type": "stream",
          "name": "stdout",
          "text": [
            "[1, 4, 9, 16, 25]\n"
          ]
        }
      ]
    },
    {
      "cell_type": "code",
      "source": [
        "# map() with a Lambda Function\n",
        "numbers = [1, 2, 3, 4, 5]\n",
        "doubled_numbers = map(lambda x: x * 2, numbers)\n",
        "print(list(doubled_numbers))"
      ],
      "metadata": {
        "colab": {
          "base_uri": "https://localhost:8080/"
        },
        "id": "Ll1PM1FgXvdd",
        "outputId": "c7a458f3-c3d5-4b20-e20e-abaa90c84f3a"
      },
      "execution_count": 42,
      "outputs": [
        {
          "output_type": "stream",
          "name": "stdout",
          "text": [
            "[2, 4, 6, 8, 10]\n"
          ]
        }
      ]
    },
    {
      "cell_type": "code",
      "source": [
        "# map() with Multiple Iterables\n",
        "def add(x, y):\n",
        "    return x + y\n",
        "numbers1 = [1, 2, 3]\n",
        "numbers2 = [4, 5, 6]\n",
        "sum_numbers = map(add, numbers1, numbers2)\n",
        "print(list(sum_numbers))"
      ],
      "metadata": {
        "colab": {
          "base_uri": "https://localhost:8080/"
        },
        "id": "Shww7ZxtXvf0",
        "outputId": "f73c4c3a-b015-47b0-9b17-bfa49c769cd0"
      },
      "execution_count": 43,
      "outputs": [
        {
          "output_type": "stream",
          "name": "stdout",
          "text": [
            "[5, 7, 9]\n"
          ]
        }
      ]
    },
    {
      "cell_type": "code",
      "source": [
        "# Ques 10: What is the difference between `map()`, `reduce()`, and `filter()` functions in Python?"
      ],
      "metadata": {
        "id": "qbB0zgLOXviu"
      },
      "execution_count": null,
      "outputs": []
    },
    {
      "cell_type": "code",
      "source": [
        "# map() function\n",
        "list1 = [1, 2, 3, 4, 5]\n",
        "squared = map(lambda x: x ** 2, list1)\n",
        "print(list(squared))"
      ],
      "metadata": {
        "colab": {
          "base_uri": "https://localhost:8080/"
        },
        "id": "wDjYcWFxXvmW",
        "outputId": "61ce9bc7-7b10-45f6-b17b-7c2c3ff44fba"
      },
      "execution_count": 44,
      "outputs": [
        {
          "output_type": "stream",
          "name": "stdout",
          "text": [
            "[1, 4, 9, 16, 25]\n"
          ]
        }
      ]
    },
    {
      "cell_type": "code",
      "source": [
        "list1 = [2, 3, 4, 8, 9]\n",
        "list2 = list(map(lambda x: x*x*x, list1))\n",
        "print(\"Cube values are:\", list2)"
      ],
      "metadata": {
        "colab": {
          "base_uri": "https://localhost:8080/"
        },
        "id": "G2A-QeYTXvp3",
        "outputId": "efcbdcd5-6d7a-4f20-9149-40e53bdd0249"
      },
      "execution_count": 45,
      "outputs": [
        {
          "output_type": "stream",
          "name": "stdout",
          "text": [
            "Cube values are: [8, 27, 64, 512, 729]\n"
          ]
        }
      ]
    },
    {
      "cell_type": "code",
      "source": [
        "# filter() function\n",
        "nums = [1, 2, 3, 4, 5]\n",
        "evens = filter(lambda x: x % 2 == 0, nums)\n",
        "print(list(evens))"
      ],
      "metadata": {
        "colab": {
          "base_uri": "https://localhost:8080/"
        },
        "id": "Rk5FSZegXb_u",
        "outputId": "9bf926ef-d7d2-4f79-e5de-0d838b98c641"
      },
      "execution_count": 46,
      "outputs": [
        {
          "output_type": "stream",
          "name": "stdout",
          "text": [
            "[2, 4]\n"
          ]
        }
      ]
    },
    {
      "cell_type": "code",
      "source": [
        "list1 = [-10, 5, 12, -78, 6, -1, -7, 9]\n",
        "positive_nos = list(filter(lambda x: x > 0, list1))\n",
        "print(\"Positive numbers are: \", positive_nos)"
      ],
      "metadata": {
        "colab": {
          "base_uri": "https://localhost:8080/"
        },
        "id": "UqbIaK0PXcC-",
        "outputId": "9dce5180-7d9d-4931-bf93-f2d46078820f"
      },
      "execution_count": 47,
      "outputs": [
        {
          "output_type": "stream",
          "name": "stdout",
          "text": [
            "Positive numbers are:  [5, 12, 6, 9]\n"
          ]
        }
      ]
    },
    {
      "cell_type": "code",
      "source": [
        "from functools import reduce\n",
        "nums = [1, 2, 3, 4]\n",
        "product = reduce(lambda x, y: x * y, nums)\n",
        "print(product)"
      ],
      "metadata": {
        "colab": {
          "base_uri": "https://localhost:8080/"
        },
        "id": "5tfrXCFuXcFb",
        "outputId": "a6daace4-6442-48b8-8623-4523d0fa55a3"
      },
      "execution_count": 48,
      "outputs": [
        {
          "output_type": "stream",
          "name": "stdout",
          "text": [
            "24\n"
          ]
        }
      ]
    },
    {
      "cell_type": "code",
      "source": [
        "from functools import reduce\n",
        "list1 = [20, 13, 4, 8, 9]\n",
        "add = reduce(lambda x, y: x+y, list1)\n",
        "print(\"Addition of all list elements is : \", add)"
      ],
      "metadata": {
        "colab": {
          "base_uri": "https://localhost:8080/"
        },
        "id": "gBaX_z9cYG0r",
        "outputId": "cd5a1f3f-65e6-445f-edb7-3b657121ef89"
      },
      "execution_count": 49,
      "outputs": [
        {
          "output_type": "stream",
          "name": "stdout",
          "text": [
            "Addition of all list elements is :  54\n"
          ]
        }
      ]
    },
    {
      "cell_type": "code",
      "source": [
        "# Ques 11 Using pen & Paper write the internal mechanism for sum operation using reduce function on this given list:[47,11,42,13];"
      ],
      "metadata": {
        "id": "IXB2joRGb8bM"
      },
      "execution_count": null,
      "outputs": []
    },
    {
      "cell_type": "code",
      "source": [
        "from functools import reduce\n",
        "\n",
        "nums = [47, 11, 42, 13]\n",
        "result = reduce(lambda x, y: x + y, nums)\n",
        "print(result)"
      ],
      "metadata": {
        "colab": {
          "base_uri": "https://localhost:8080/"
        },
        "id": "KWaRsD4vcAvG",
        "outputId": "961f0e8e-9e6f-4278-a534-d508df72f1cd"
      },
      "execution_count": 50,
      "outputs": [
        {
          "output_type": "stream",
          "name": "stdout",
          "text": [
            "113\n"
          ]
        }
      ]
    }
  ]
}